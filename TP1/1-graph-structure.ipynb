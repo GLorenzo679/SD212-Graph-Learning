{
 "cells": [
  {
   "cell_type": "markdown",
   "metadata": {},
   "source": [
    "# SD212: Graph Learning\n",
    "\n",
    "## Lab 1: Graph Structure\n",
    "\n",
    "In this lab, you will check some key properties of real graphs:\n",
    "\n",
    "- the [friendship paradox](https://en.wikipedia.org/wiki/Friendship_paradox),\n",
    "- the [power-law](https://en.wikipedia.org/wiki/Power_law#Power-law_probability_distributions) of degrees,\n",
    "- the [small-world](https://en.wikipedia.org/wiki/Small-world_network) property,\n",
    "- the tendency to [cluster](https://en.wikipedia.org/wiki/Clustering_coefficient).\n"
   ]
  },
  {
   "cell_type": "markdown",
   "metadata": {},
   "source": [
    "## Import\n"
   ]
  },
  {
   "cell_type": "code",
   "execution_count": 411,
   "metadata": {},
   "outputs": [],
   "source": [
    "import numpy as np\n",
    "from scipy import sparse\n",
    "import matplotlib.pyplot as plt"
   ]
  },
  {
   "cell_type": "code",
   "execution_count": 412,
   "metadata": {},
   "outputs": [],
   "source": [
    "from sknetwork.data import load_netset, erdos_renyi\n",
    "from sknetwork.path import get_distances, get_shortest_path\n",
    "from sknetwork.topology import get_clustering_coefficient\n",
    "from sknetwork.utils import get_degrees, get_neighbors"
   ]
  },
  {
   "cell_type": "markdown",
   "metadata": {},
   "source": [
    "## Data\n"
   ]
  },
  {
   "cell_type": "markdown",
   "metadata": {},
   "source": [
    "We will work on the following graphs (see the [NetSet](https://netset.telecom-paris.fr) collection for details):\n",
    "\n",
    "- Openflights (graph)\n",
    "- WikiVitals (directed graph)\n",
    "- Cinema (bipartite graph)\n"
   ]
  },
  {
   "cell_type": "code",
   "execution_count": 413,
   "metadata": {},
   "outputs": [
    {
     "name": "stdout",
     "output_type": "stream",
     "text": [
      "Parsing files...\n",
      "Done.\n"
     ]
    }
   ],
   "source": [
    "openflights = load_netset(\"openflights\")"
   ]
  },
  {
   "cell_type": "code",
   "execution_count": 414,
   "metadata": {},
   "outputs": [
    {
     "name": "stdout",
     "output_type": "stream",
     "text": [
      "Parsing files...\n",
      "Done.\n"
     ]
    }
   ],
   "source": [
    "wikivitals = load_netset(\"wikivitals\")"
   ]
  },
  {
   "cell_type": "code",
   "execution_count": 415,
   "metadata": {},
   "outputs": [
    {
     "name": "stdout",
     "output_type": "stream",
     "text": [
      "Parsing files...\n",
      "Done.\n"
     ]
    }
   ],
   "source": [
    "cinema = load_netset(\"cinema\")"
   ]
  },
  {
   "cell_type": "code",
   "execution_count": 416,
   "metadata": {},
   "outputs": [],
   "source": [
    "dataset = openflights"
   ]
  },
  {
   "cell_type": "code",
   "execution_count": 417,
   "metadata": {},
   "outputs": [],
   "source": [
    "# adjacency matrix\n",
    "adjacency = dataset.adjacency"
   ]
  },
  {
   "cell_type": "code",
   "execution_count": 418,
   "metadata": {},
   "outputs": [
    {
     "data": {
      "text/plain": [
       "<3097x3097 sparse matrix of type '<class 'numpy.int64'>'\n",
       "\twith 36386 stored elements in Compressed Sparse Row format>"
      ]
     },
     "execution_count": 418,
     "metadata": {},
     "output_type": "execute_result"
    }
   ],
   "source": [
    "adjacency"
   ]
  },
  {
   "cell_type": "markdown",
   "metadata": {},
   "source": [
    "## 1. Friendship paradox\n"
   ]
  },
  {
   "cell_type": "markdown",
   "metadata": {},
   "source": [
    "We first focus on the friendship paradox. We consider the Openflights dataset.\n"
   ]
  },
  {
   "cell_type": "markdown",
   "metadata": {},
   "source": [
    "## To do\n",
    "\n",
    "- Sample 100 random nodes. Compute their average degree.\n",
    "- Sample 100 random neighbors of random nodes. Compute their average degree.\n",
    "- Conclude.\n"
   ]
  },
  {
   "cell_type": "code",
   "execution_count": 419,
   "metadata": {},
   "outputs": [],
   "source": [
    "degrees = get_degrees(adjacency)"
   ]
  },
  {
   "cell_type": "code",
   "execution_count": 420,
   "metadata": {},
   "outputs": [],
   "source": [
    "node = 0\n",
    "neighbors = get_neighbors(adjacency, node)"
   ]
  },
  {
   "cell_type": "code",
   "execution_count": 421,
   "metadata": {},
   "outputs": [
    {
     "name": "stdout",
     "output_type": "stream",
     "text": [
      "Average degree: 10.15\n",
      "Average neighbor degree: 50.22\n"
     ]
    }
   ],
   "source": [
    "n = 100\n",
    "\n",
    "# select 100 random nodes\n",
    "nodes = np.random.choice(adjacency.shape[0], n, replace=False)\n",
    "\n",
    "neighbors = np.zeros(n)\n",
    "\n",
    "# select all neighbors of the selected nodes\n",
    "for node in nodes:\n",
    "    neighbors = np.concatenate((neighbors, get_neighbors(adjacency, node)))\n",
    "\n",
    "# remove duplicates\n",
    "neighbors = np.unique(neighbors).astype(int).flatten()\n",
    "\n",
    "# select 100 random neighbors of the random nodes\n",
    "neighbors = np.random.choice(neighbors, n, replace=False)\n",
    "\n",
    "avg_degrees = np.mean([degrees[node] for node in nodes])\n",
    "avg_neighbor_degree = np.mean([degrees[neighbor] for neighbor in neighbors])\n",
    "\n",
    "print(f\"Average degree: {avg_degrees:.2f}\")\n",
    "print(f\"Average neighbor degree: {avg_neighbor_degree:.2f}\")"
   ]
  },
  {
   "cell_type": "markdown",
   "metadata": {},
   "source": [
    "## 2. Power-law degrees\n"
   ]
  },
  {
   "cell_type": "markdown",
   "metadata": {},
   "source": [
    "We now focus on the degree distribution.\n",
    "\n",
    "We consider the empirical distributions of:\n",
    "\n",
    "- degrees in the Openflights graph,\n",
    "- in-degrees and out-degrees in the WikiVitals graph.\n"
   ]
  },
  {
   "cell_type": "markdown",
   "metadata": {},
   "source": [
    "## To do\n"
   ]
  },
  {
   "cell_type": "markdown",
   "metadata": {},
   "source": [
    "For each of these distributions:\n",
    "\n",
    "- Plot the [tail distribution](<https://en.wikipedia.org/wiki/Cumulative_distribution_function#Complementary_cumulative_distribution_function_(tail_distribution)>) in log-log scale.\n",
    "- Conclude: do you consider that these are power-law graphs?\n"
   ]
  },
  {
   "cell_type": "code",
   "execution_count": 422,
   "metadata": {},
   "outputs": [],
   "source": [
    "def plot_loglog(degrees):\n",
    "    \"\"\"Plot the degree distribution in log-log scale and compare with that of a random graph.\n",
    "\n",
    "    Parameters\n",
    "    ----------\n",
    "    degrees : array\n",
    "        vector of degrees of the graph.\n",
    "    \"\"\"\n",
    "    n = len(degrees)\n",
    "    # comparison with a random graph\n",
    "    p = np.sum(degrees) / n / (n - 1)  # link probability\n",
    "    adjacency_random = erdos_renyi(n, p)\n",
    "    degrees_random = get_degrees(adjacency_random)\n",
    "    plt.loglog(np.sort(degrees), 1 - np.arange(n) / n, lw=3, label=\"Real graph\")\n",
    "    plt.loglog(\n",
    "        np.sort(degrees_random), 1 - np.arange(n) / n, lw=3, label=\"Random graph\"\n",
    "    )\n",
    "    plt.xlabel(\"Degree\")\n",
    "    plt.ylabel(\"Probability\")\n",
    "    plt.legend()\n",
    "    plt.show()"
   ]
  },
  {
   "cell_type": "code",
   "execution_count": 423,
   "metadata": {},
   "outputs": [
    {
     "data": {
      "image/png": "[encoded data removed]",
      "text/plain": [
       "<Figure size 640x480 with 1 Axes>"
      ]
     },
     "metadata": {},
     "output_type": "display_data"
    }
   ],
   "source": [
    "dataset = openflights\n",
    "adjacency = dataset.adjacency\n",
    "degrees = get_degrees(adjacency)\n",
    "\n",
    "plot_loglog(degrees)"
   ]
  },
  {
   "cell_type": "code",
   "execution_count": 424,
   "metadata": {},
   "outputs": [],
   "source": [
    "dataset = wikivitals\n",
    "adjacency = dataset.adjacency\n",
    "\n",
    "n = adjacency.shape[0]\n",
    "\n",
    "in_degrees = adjacency.dot(np.ones(n))\n",
    "out_degrees = adjacency.T.dot(np.ones(n))"
   ]
  },
  {
   "cell_type": "code",
   "execution_count": 425,
   "metadata": {},
   "outputs": [
    {
     "data": {
      "image/png": "[encoded data removed]",
      "text/plain": [
       "<Figure size 640x480 with 1 Axes>"
      ]
     },
     "metadata": {},
     "output_type": "display_data"
    }
   ],
   "source": [
    "plot_loglog(in_degrees)"
   ]
  },
  {
   "cell_type": "code",
   "execution_count": 426,
   "metadata": {},
   "outputs": [
    {
     "data": {
      "image/png": "[encoded data removed]",
      "text/plain": [
       "<Figure size 640x480 with 1 Axes>"
      ]
     },
     "metadata": {},
     "output_type": "display_data"
    }
   ],
   "source": [
    "plot_loglog(out_degrees)"
   ]
  },
  {
   "cell_type": "markdown",
   "metadata": {},
   "source": [
    "## 3. Small-world property\n"
   ]
  },
  {
   "cell_type": "markdown",
   "metadata": {},
   "source": [
    "You will now make a few experiments highlighting the small-world property.\n"
   ]
  },
  {
   "cell_type": "markdown",
   "metadata": {},
   "source": [
    "## To do\n",
    "\n",
    "- Give a shortest path from [Plato](https://en.wikipedia.org/wiki/Plato) to [Platini](https://en.wikipedia.org/wiki/Michel_Platini) in WikiVitals.<br>\n",
    "  List the corresponding articles.\n"
   ]
  },
  {
   "cell_type": "code",
   "execution_count": 427,
   "metadata": {},
   "outputs": [],
   "source": [
    "dataset = wikivitals\n",
    "adjacency = dataset.adjacency\n",
    "names = dataset.names"
   ]
  },
  {
   "cell_type": "code",
   "execution_count": 428,
   "metadata": {},
   "outputs": [
    {
     "name": "stdout",
     "output_type": "stream",
     "text": [
      "Distance between Plato and Michel Platini: 3\n",
      "Path: ['Plato' 'Naples' 'Diego Maradona' 'Michel Platini']\n"
     ]
    }
   ],
   "source": [
    "source = np.flatnonzero(names == \"Plato\")[0]\n",
    "destination = np.flatnonzero(names == \"Michel Platini\")[0]\n",
    "\n",
    "shortest_path_tree = get_shortest_path(adjacency, source)\n",
    "\n",
    "node = destination\n",
    "path = [destination]\n",
    "\n",
    "while node != source:\n",
    "    node = get_neighbors(shortest_path_tree, node, transpose=True)[0]\n",
    "    path = [node] + path\n",
    "\n",
    "print(f\"Distance between Plato and Michel Platini: {len(path) - 1}\")\n",
    "print(f\"Path: {names[path]}\")"
   ]
  },
  {
   "cell_type": "markdown",
   "metadata": {},
   "source": [
    "## To do\n",
    "\n",
    "- Which fraction of the airports can be reached from **Paris Charles de Gaulle** in 1, 2, 3 flights?\n",
    "- Which fraction of the articles can be reached from **Paris** in 1, 2, 3 clicks on Wikipedia Vitals?\n"
   ]
  },
  {
   "cell_type": "code",
   "execution_count": 429,
   "metadata": {},
   "outputs": [],
   "source": [
    "dataset = openflights\n",
    "adjacency = dataset.adjacency\n",
    "names = dataset.names"
   ]
  },
  {
   "cell_type": "code",
   "execution_count": 430,
   "metadata": {},
   "outputs": [
    {
     "name": "stdout",
     "output_type": "stream",
     "text": [
      "Number of airports that can be reached at distance 1: 234\n",
      "Fraction of airports that can be reached at distance 1: 0.076\n",
      "\n",
      "Number of airports that can be reached at distance 2: 1917\n",
      "Fraction of airports that can be reached at distance 2: 0.619\n",
      "\n",
      "Number of airports that can be reached at distance 3: 2815\n",
      "Fraction of airports that can be reached at distance 3: 0.909\n",
      "\n"
     ]
    }
   ],
   "source": [
    "source_name = \"Charles de Gaulle International Airport\"\n",
    "source = np.flatnonzero(names == source_name)[0]\n",
    "\n",
    "distances = get_distances(adjacency, source)\n",
    "distances = distances[distances < 4]\n",
    "\n",
    "for i in range(1, 4):\n",
    "    idx = distances[distances <= i]\n",
    "    print(f\"Number of airports that can be reached at distance {i}: {len(idx)}\")\n",
    "    print(\n",
    "        f\"Fraction of airports that can be reached at distance {i}: {len(idx) / len(names):.3f}\\n\"\n",
    "    )"
   ]
  },
  {
   "cell_type": "code",
   "execution_count": 431,
   "metadata": {},
   "outputs": [],
   "source": [
    "dataset = wikivitals\n",
    "adjacency = dataset.adjacency\n",
    "names = dataset.names"
   ]
  },
  {
   "cell_type": "code",
   "execution_count": 432,
   "metadata": {},
   "outputs": [
    {
     "name": "stdout",
     "output_type": "stream",
     "text": [
      "Number of articles that can be reached at distance 1: 426\n",
      "Fraction of articles that can be reached at distance 1: 0.043\n",
      "\n",
      "Number of articles that can be reached at distance 2: 6779\n",
      "Fraction of articles that can be reached at distance 2: 0.677\n",
      "\n",
      "Number of articles that can be reached at distance 3: 9974\n",
      "Fraction of articles that can be reached at distance 3: 0.996\n",
      "\n"
     ]
    }
   ],
   "source": [
    "source = np.flatnonzero(names == \"Paris\")[0]\n",
    "\n",
    "distances = get_distances(adjacency, source)\n",
    "distances = distances[distances < 4]\n",
    "\n",
    "for i in range(1, 4):\n",
    "    idx = distances[distances <= i]\n",
    "    print(f\"Number of articles that can be reached at distance {i}: {len(idx)}\")\n",
    "    print(\n",
    "        f\"Fraction of articles that can be reached at distance {i}: {len(idx) / len(names):.3f}\\n\"\n",
    "    )"
   ]
  },
  {
   "cell_type": "markdown",
   "metadata": {},
   "source": [
    "## To do\n",
    "\n",
    "- Compute the [Bacon number](https://fr.wikipedia.org/wiki/Six_Degrees_of_Kevin_Bacon) of all actors (**without** building the co-starring actor graph).\n",
    "- Plot the corresponding histogram.\n"
   ]
  },
  {
   "cell_type": "code",
   "execution_count": 433,
   "metadata": {},
   "outputs": [],
   "source": [
    "dataset = cinema\n",
    "# biadjacency matrix\n",
    "biadjacency = dataset.biadjacency\n",
    "movies = dataset.names_row\n",
    "actors = dataset.names_col"
   ]
  },
  {
   "cell_type": "code",
   "execution_count": 434,
   "metadata": {},
   "outputs": [
    {
     "data": {
      "image/png": "[encoded data removed]",
      "text/plain": [
       "<Figure size 640x480 with 1 Axes>"
      ]
     },
     "metadata": {},
     "output_type": "display_data"
    }
   ],
   "source": [
    "source = np.flatnonzero(actors == \"Kevin Bacon\")[0]\n",
    "\n",
    "# biadjacency matrix, rows are movies and columns are actors\n",
    "# A_ij = 1 if actor j plays in movie i\n",
    "_, distances = get_distances(biadjacency, source_col=source)\n",
    "\n",
    "# we divide by 2 because the distance is the number of movies between two actors (distance)\n",
    "# A1 and A2 play in M1, A2 and A3 play in M2, the distance between A1 and A3 is 2\n",
    "# this is because A1->M1->A2->M2->A3\n",
    "bacon_numbers = distances // 2\n",
    "\n",
    "plt.hist(bacon_numbers, bins=15)\n",
    "plt.xlabel(\"Distance to Kevin Bacon\")\n",
    "plt.ylabel(\"Number of actors\")\n",
    "plt.show()"
   ]
  },
  {
   "cell_type": "markdown",
   "metadata": {},
   "source": [
    "## 4. Clustering coefficient\n"
   ]
  },
  {
   "cell_type": "markdown",
   "metadata": {},
   "source": [
    "Finally, we check the clustering property of real graphs (my friends tend to be friends).\n"
   ]
  },
  {
   "cell_type": "markdown",
   "metadata": {},
   "source": [
    "## To do\n",
    "\n",
    "- Compute the clustering coefficient of Openflights.\n",
    "- Compare with that of a random graph of same size and same average degree.\n"
   ]
  },
  {
   "cell_type": "code",
   "execution_count": 435,
   "metadata": {},
   "outputs": [],
   "source": [
    "dataset = openflights\n",
    "adjacency = dataset.adjacency"
   ]
  },
  {
   "cell_type": "code",
   "execution_count": 436,
   "metadata": {},
   "outputs": [
    {
     "data": {
      "text/plain": [
       "0.25107219520077"
      ]
     },
     "execution_count": 436,
     "metadata": {},
     "output_type": "execute_result"
    }
   ],
   "source": [
    "get_clustering_coefficient(adjacency)"
   ]
  },
  {
   "cell_type": "code",
   "execution_count": 437,
   "metadata": {},
   "outputs": [
    {
     "data": {
      "text/plain": [
       "0.0067314555215375795"
      ]
     },
     "execution_count": 437,
     "metadata": {},
     "output_type": "execute_result"
    }
   ],
   "source": [
    "n = adjacency.shape[0]\n",
    "adjacency_random = erdos_renyi(n, np.sum(adjacency.data) / n / (n - 1))\n",
    "\n",
    "get_clustering_coefficient(adjacency_random)"
   ]
  }
 ],
 "metadata": {
  "anaconda-cloud": {},
  "hide_input": false,
  "kernelspec": {
   "display_name": "Python 3 (ipykernel)",
   "language": "python",
   "name": "python3"
  },
  "language_info": {
   "codemirror_mode": {
    "name": "ipython",
    "version": 3
   },
   "file_extension": ".py",
   "mimetype": "text/x-python",
   "name": "python",
   "nbconvert_exporter": "python",
   "pygments_lexer": "ipython3",
   "version": "3.11.7"
  }
 },
 "nbformat": 4,
 "nbformat_minor": 1
}
